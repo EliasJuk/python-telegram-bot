{
 "cells": [
  {
   "cell_type": "markdown",
   "id": "230680ac",
   "metadata": {},
   "source": [
    "## Recebe as mensagem do telegram e mostra no console"
   ]
  },
  {
   "cell_type": "code",
   "execution_count": null,
   "id": "c5c21895",
   "metadata": {},
   "outputs": [],
   "source": [
    "import os\n",
    "import dotenv\n",
    "\n",
    "#CARREGA OS VALORES DO ARQUIVO\n",
    "dotenv.load_dotenv(dotenv.find_dotenv())\n",
    "\n",
    "token = os.getenv(\"token\")\n",
    "print(token)"
   ]
  },
  {
   "cell_type": "code",
   "execution_count": null,
   "id": "fc4ea469",
   "metadata": {},
   "outputs": [],
   "source": [
    "import requests\n",
    "import time\n",
    "\n",
    "# Ler as mensagens que estão chegando\n",
    "while True:\n",
    "    token = token\n",
    "    url_base = f'https://api.telegram.org/bot{token}/getUpdates'\n",
    "    resultado = requests.get(url_base)\n",
    "    \n",
    "    #DESESTRTURAÇÃO\n",
    "    dados = resultado.json()\n",
    "    dados = dados['result']\n",
    "  \n",
    "    #MOSTRA AS MENSAGENS RECEBINAS NO CONSOLE\n",
    "    for dado in dados:\n",
    "        mensagem = str(dado[\"message\"][\"text\"])\n",
    "        print(mensagem)\n",
    "        time.sleep(4)"
   ]
  }
 ],
 "metadata": {
  "kernelspec": {
   "display_name": "Python 3",
   "language": "python",
   "name": "python3"
  },
  "language_info": {
   "codemirror_mode": {
    "name": "ipython",
    "version": 3
   },
   "file_extension": ".py",
   "mimetype": "text/x-python",
   "name": "python",
   "nbconvert_exporter": "python",
   "pygments_lexer": "ipython3",
   "version": "3.9.6"
  }
 },
 "nbformat": 4,
 "nbformat_minor": 5
}
