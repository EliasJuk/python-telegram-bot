{
 "cells": [
  {
   "cell_type": "markdown",
   "id": "fc1cedfb",
   "metadata": {},
   "source": [
    "## Responde as mensagens recebidas"
   ]
  },
  {
   "cell_type": "code",
   "execution_count": null,
   "id": "df74bba2",
   "metadata": {},
   "outputs": [],
   "source": [
    "import requests\n",
    "import time"
   ]
  },
  {
   "cell_type": "code",
   "execution_count": null,
   "id": "1b2c083f",
   "metadata": {},
   "outputs": [],
   "source": [
    "import os\n",
    "import dotenv\n",
    "\n",
    "#CARREGA OS VALORES DO ARQUIVO\n",
    "dotenv.load_dotenv(dotenv.find_dotenv())\n",
    "\n",
    "token = os.getenv(\"token\")\n",
    "print(token)"
   ]
  },
  {
   "cell_type": "code",
   "execution_count": null,
   "id": "3904029a",
   "metadata": {},
   "outputs": [],
   "source": [
    "while True:   \n",
    "    url_base = f'https://api.telegram.org/bot{token}/getUpdates'\n",
    "    resultado = requests.get(url_base)\n",
    "    print(resultado.json())\n",
    "    time.sleep(4)"
   ]
  },
  {
   "cell_type": "markdown",
   "id": "b11176c1",
   "metadata": {},
   "source": [
    "### Pega os dados de um update_id"
   ]
  },
  {
   "cell_type": "code",
   "execution_count": null,
   "id": "e50d8690",
   "metadata": {},
   "outputs": [],
   "source": [
    "url_base = f'https://api.telegram.org/bot{token}'\n",
    "link_requisicao = f'{url_base}/getUpdates?timeout=100'\n",
    "        \n",
    "#PEGAR UM update_id especifico\n",
    "update_id = 654334562\n",
    "link_requisicao_ui = f'{link_requisicao}&offset={update_id}'\n",
    "resultado = requests.get(link_requisicao_ui)\n",
    "resultado.json()"
   ]
  },
  {
   "cell_type": "markdown",
   "id": "a08cade3",
   "metadata": {},
   "source": [
    "### Pegar as update_id e a mensagem"
   ]
  },
  {
   "cell_type": "code",
   "execution_count": null,
   "id": "e824085a",
   "metadata": {},
   "outputs": [],
   "source": [
    "import json\n",
    "\n",
    "url_base = f'https://api.telegram.org/bot{token}'\n",
    "link_requisicao = f'{url_base}/getUpdates?timeout=100'\n",
    "        \n",
    "\n",
    "#PEGAR UM update_id especifico\n",
    "resultado = requests.get(link_requisicao)\n",
    "\n",
    "resultado = resultado.json()\n",
    "mensagens = resultado['result']\n",
    "\n",
    "#printa apenas a primeira mensagem\n",
    "print(mensagens[0])\n",
    "\n",
    "while True:\n",
    "    if mensagens:\n",
    "        for mensagem in mensagens:\n",
    "            update_id = mensagem['update_id']\n",
    "            chat_id = mensagem['message']['from']['id']\n",
    "            chat_message = mensagem['message']['text']\n",
    "            \n",
    "            #PRINTA TODAS AS MENSAGENS RECEBIDAS\n",
    "            #print(update_id)\n",
    "            #print(chat_id)\n",
    "            #print(chat_message)\n",
    "            #print('')"
   ]
  },
  {
   "cell_type": "markdown",
   "id": "997e0d6f",
   "metadata": {},
   "source": [
    "## Pegar as infomações da Primeira mensagem"
   ]
  },
  {
   "cell_type": "code",
   "execution_count": null,
   "id": "9c592fbf",
   "metadata": {},
   "outputs": [],
   "source": [
    "import requests\n",
    "import time\n",
    "import json\n",
    "import os\n",
    "import dotenv\n",
    "\n",
    "class TelegramBot:  \n",
    "    def __init__(self): \n",
    "        #TOKEN\n",
    "        dotenv.load_dotenv(dotenv.find_dotenv())\n",
    "        token = os.getenv(\"token\")\n",
    "        token = f'{token}'\n",
    "        \n",
    "        self.url_base = f'https://api.telegram.org/bot{token}'\n",
    "        \n",
    "    #inicia o bot \n",
    "    def Iniciar(self):\n",
    "        update_id = None\n",
    "        \n",
    "        while True:\n",
    "            atualizacao = self.obter_mensagens(update_id)\n",
    "            mensagens = atualizacao['result']\n",
    "            \n",
    "            print(mensagens[0])           \n",
    "                        \n",
    "        \n",
    "    #Obter memsagens\n",
    "    def obter_mensagens(self,update_id):\n",
    "        link_requisicao = f'{self.url_base}/getUpdates?timeout=100'\n",
    "        \n",
    "        if update_id:\n",
    "            link_requisicao = f'{link_requisicao}&offset={update_id + 1}'\n",
    "        \n",
    "        resultado = requests.get(link_requisicao)\n",
    "        return json.loads(resultado.content)\n",
    "\n",
    "\n",
    "bot = TelegramBot()\n",
    "bot.Iniciar()"
   ]
  },
  {
   "cell_type": "markdown",
   "id": "c88742b7",
   "metadata": {},
   "source": [
    "## Responder Mensagem"
   ]
  },
  {
   "cell_type": "code",
   "execution_count": null,
   "id": "5fa1c6e1",
   "metadata": {},
   "outputs": [],
   "source": [
    "import requests\n",
    "import time\n",
    "import json\n",
    "import os\n",
    "import dotenv\n",
    "\n",
    "class TelegramBot:  \n",
    "    def __init__(self): \n",
    "        #TOKEN\n",
    "        dotenv.load_dotenv(dotenv.find_dotenv())\n",
    "        token = os.getenv(\"token\")\n",
    "        token = f'{token}'\n",
    "        \n",
    "        self.url_base = f'https://api.telegram.org/bot{token}'\n",
    "        \n",
    "    #inicia o bot \n",
    "    def Iniciar(self):\n",
    "        update_id = None\n",
    "        \n",
    "        while True:\n",
    "            atualizacao = self.obter_mensagens(update_id)\n",
    "            mensagens = atualizacao['result']\n",
    "                               \n",
    "            if mensagens:                \n",
    "                for mensagem in mensagens:\n",
    "                    update_id = mensagem['update_id']\n",
    "                    chat_mensagem = mensagem['message']['text']\n",
    "                    chat_id = mensagem['message']['from']['id']              \n",
    "\n",
    "                    resposta = self.criar_resposta()\n",
    "\n",
    "                    #ENVIAR RESPOSTA\n",
    "                    self.responder(resposta,chat_id)\n",
    "                \n",
    "    #Obter memsagens\n",
    "    def obter_mensagens(self,update_id):\n",
    "        link_requisicao = f'{self.url_base}/getUpdates?timeout=100'\n",
    "                \n",
    "        if update_id:\n",
    "            link_requisicao = f'{link_requisicao}&offset={update_id + 1}'\n",
    "        \n",
    "        resultado = requests.get(link_requisicao)\n",
    "        return json.loads(resultado.content)\n",
    "    \n",
    "    def criar_resposta(self):\n",
    "        return 'Ola Mundo!'\n",
    "    \n",
    "    def responder(self,resposta,chat_id):\n",
    "        link_de_envio = f'{self.url_base}/sendMessage?chat_id={chat_id}&text={resposta}'\n",
    "        requests.get(link_de_envio)\n",
    "\n",
    "\n",
    "bot = TelegramBot()\n",
    "bot.Iniciar()"
   ]
  },
  {
   "cell_type": "markdown",
   "id": "1d88f6a8",
   "metadata": {},
   "source": [
    "# ECOBOT"
   ]
  },
  {
   "cell_type": "code",
   "execution_count": null,
   "id": "1dd96c9a",
   "metadata": {},
   "outputs": [],
   "source": [
    "import requests\n",
    "import time\n",
    "import json\n",
    "import os\n",
    "import dotenv\n",
    "\n",
    "class TelegramBot:  \n",
    "    def __init__(self): \n",
    "        #TOKEN\n",
    "        dotenv.load_dotenv(dotenv.find_dotenv())\n",
    "        token = os.getenv(\"token\")\n",
    "        token = f'{token}'\n",
    "        \n",
    "        self.url_base = f'https://api.telegram.org/bot{token}'\n",
    "        \n",
    "    #inicia o bot \n",
    "    def Iniciar(self):\n",
    "        update_id = None\n",
    "        \n",
    "        while True:\n",
    "            atualizacao = self.obter_mensagens(update_id)\n",
    "            mensagens = atualizacao['result']\n",
    "                               \n",
    "            if mensagens:                \n",
    "                for mensagem in mensagens:\n",
    "                    update_id = mensagem['update_id']\n",
    "                    chat_mensagem = mensagem['message']['text']\n",
    "                    chat_id = mensagem['message']['from']['id']              \n",
    "\n",
    "                    resposta = self.criar_resposta(chat_mensagem)\n",
    "\n",
    "                    #ENVIAR RESPOSTA\n",
    "                    self.responder(resposta,chat_id)\n",
    "                \n",
    "    #Obter memsagens\n",
    "    def obter_mensagens(self,update_id):\n",
    "        link_requisicao = f'{self.url_base}/getUpdates?timeout=100'\n",
    "                \n",
    "        if update_id:\n",
    "            link_requisicao = f'{link_requisicao}&offset={update_id + 1}'\n",
    "        \n",
    "        resultado = requests.get(link_requisicao)\n",
    "        return json.loads(resultado.content)\n",
    "    \n",
    "    def criar_resposta(self, chat_mensagem):\n",
    "        resposta = chat_mensagem\n",
    "        return resposta\n",
    "    \n",
    "    def responder(self,resposta,chat_id):\n",
    "        link_de_envio = f'{self.url_base}/sendMessage?chat_id={chat_id}&text={resposta}'\n",
    "        requests.get(link_de_envio)\n",
    "\n",
    "\n",
    "bot = TelegramBot()\n",
    "bot.Iniciar()"
   ]
  }
 ],
 "metadata": {
  "kernelspec": {
   "display_name": "Python 3",
   "language": "python",
   "name": "python3"
  },
  "language_info": {
   "codemirror_mode": {
    "name": "ipython",
    "version": 3
   },
   "file_extension": ".py",
   "mimetype": "text/x-python",
   "name": "python",
   "nbconvert_exporter": "python",
   "pygments_lexer": "ipython3",
   "version": "3.9.6"
  }
 },
 "nbformat": 4,
 "nbformat_minor": 5
}
