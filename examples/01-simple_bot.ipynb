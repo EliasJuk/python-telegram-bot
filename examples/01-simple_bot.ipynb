{
 "cells": [
  {
   "cell_type": "code",
   "execution_count": null,
   "id": "df129133",
   "metadata": {},
   "outputs": [],
   "source": [
    "import os\n",
    "from dotenv import load_dotenv\n",
    "\n",
    "dotenv_path = '../.env'\n",
    "\n",
    "load_dotenv(dotenv_path)\n",
    "token = os.environ.get(\"api_token\")"
   ]
  },
  {
   "cell_type": "code",
   "execution_count": null,
   "id": "8e7b9b5e",
   "metadata": {},
   "outputs": [],
   "source": [
    "import requests\n",
    "import time\n",
    "\n",
    "# Ler as mensagens que estão chegando\n",
    "while True:\n",
    "  token = token\n",
    "  url_base = f'https://api.telegram.org/bot{token}/getUpdates'\n",
    "  resultado = requests.get(url_base)\n",
    "  print(resultado.json())\n",
    "  time.sleep(6)"
   ]
  }
 ],
 "metadata": {
  "kernelspec": {
   "display_name": "Python 3",
   "language": "python",
   "name": "python3"
  },
  "language_info": {
   "codemirror_mode": {
    "name": "ipython",
    "version": 3
   },
   "file_extension": ".py",
   "mimetype": "text/x-python",
   "name": "python",
   "nbconvert_exporter": "python",
   "pygments_lexer": "ipython3",
   "version": "3.9.2"
  }
 },
 "nbformat": 4,
 "nbformat_minor": 5
}
